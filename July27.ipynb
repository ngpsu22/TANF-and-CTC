{
  "nbformat": 4,
  "nbformat_minor": 0,
  "metadata": {
    "colab": {
      "name": "July27.ipynb",
      "provenance": []
    },
    "kernelspec": {
      "name": "python3",
      "display_name": "Python 3"
    }
  },
  "cells": [
    {
      "cell_type": "code",
      "metadata": {
        "id": "sjMVsPyrypn9",
        "colab_type": "code",
        "colab": {}
      },
      "source": [
        "import pandas as pd\n",
        "import numpy as np \n",
        "import matplotlib.pyplot as plt \n",
        "import matplotlib.ticker as mtick "
      ],
      "execution_count": null,
      "outputs": []
    },
    {
      "cell_type": "code",
      "metadata": {
        "id": "N7QjZ33ezOy5",
        "colab_type": "code",
        "colab": {}
      },
      "source": [
        "person_raw = pd.read_csv('https://github.com/MaxGhenis/datarepo/raw/master/pppub19.csv.gz',\n",
        "                         usecols=['MARSUPWT', 'SPM_ID', 'SPM_POVTHRESHOLD',\n",
        "                                  'SPM_RESOURCES','A_AGE','CTC_CRD','ACTC_CRD','PAW_TYP','PAW_VAL'])"
      ],
      "execution_count": null,
      "outputs": []
    },
    {
      "cell_type": "code",
      "metadata": {
        "id": "liY9q6_EzSaV",
        "colab_type": "code",
        "colab": {}
      },
      "source": [
        "person = person_raw.copy(deep=True)\n",
        "person.columns = person.columns.str.lower()\n",
        "person['weight'] = person.marsupwt/100"
      ],
      "execution_count": null,
      "outputs": []
    },
    {
      "cell_type": "code",
      "metadata": {
        "id": "HdirNRP5zUg3",
        "colab_type": "code",
        "colab": {}
      },
      "source": [
        "del person['marsupwt']"
      ],
      "execution_count": null,
      "outputs": []
    },
    {
      "cell_type": "code",
      "metadata": {
        "id": "jh1ehBjI01gu",
        "colab_type": "code",
        "colab": {}
      },
      "source": [
        "person['child'] = person.a_age < 18\n",
        "person['adult'] = person.a_age >= 18\n",
        "ages = person.groupby('spm_id')[['child','adult']].sum()\n",
        "ages.columns = ['total_children', 'total_adults']\n",
        "person = person.merge(ages,left_on='spm_id', right_index=True)"
      ],
      "execution_count": null,
      "outputs": []
    },
    {
      "cell_type": "code",
      "metadata": {
        "id": "nSv3rM2Z-FSw",
        "colab_type": "code",
        "colab": {}
      },
      "source": [
        "person = "
      ],
      "execution_count": null,
      "outputs": []
    },
    {
      "cell_type": "code",
      "metadata": {
        "id": "bnOocnME8sIx",
        "colab_type": "code",
        "colab": {}
      },
      "source": [
        "\n",
        "person_benefits =person['spm_id'].copy(deep=True)\n",
        "person_benefits=pd.DataFrame(person_benefits)\n",
        "person_benefits = person_benefits[['spm_id']].drop_duplicates()\n",
        "person_benefits\n",
        "\n"
      ],
      "execution_count": null,
      "outputs": []
    },
    {
      "cell_type": "code",
      "metadata": {
        "id": "X20N4dzu1OdF",
        "colab_type": "code",
        "colab": {}
      },
      "source": [
        "person_benefits=person_benefits['ctc_crd','actc_crd','paw_typ','paw_val','spm_id','weight']\n",
        "person_benefits\n",
        "\n",
        "\n"
      ],
      "execution_count": null,
      "outputs": []
    },
    {
      "cell_type": "code",
      "metadata": {
        "id": "xjiKlC3C4J9z",
        "colab_type": "code",
        "colab": {
          "base_uri": "https://localhost:8080/",
          "height": 419
        },
        "outputId": "83ea71fd-135c-4a44-8d0b-37c1c3579731"
      },
      "source": [
        "#drop duplicates\n"
      ],
      "execution_count": null,
      "outputs": [
        {
          "output_type": "execute_result",
          "data": {
            "text/html": [
              "<div>\n",
              "<style scoped>\n",
              "    .dataframe tbody tr th:only-of-type {\n",
              "        vertical-align: middle;\n",
              "    }\n",
              "\n",
              "    .dataframe tbody tr th {\n",
              "        vertical-align: top;\n",
              "    }\n",
              "\n",
              "    .dataframe thead th {\n",
              "        text-align: right;\n",
              "    }\n",
              "</style>\n",
              "<table border=\"1\" class=\"dataframe\">\n",
              "  <thead>\n",
              "    <tr style=\"text-align: right;\">\n",
              "      <th></th>\n",
              "      <th>spm_id</th>\n",
              "    </tr>\n",
              "  </thead>\n",
              "  <tbody>\n",
              "    <tr>\n",
              "      <th>0</th>\n",
              "      <td>4001</td>\n",
              "    </tr>\n",
              "    <tr>\n",
              "      <th>1</th>\n",
              "      <td>6001</td>\n",
              "    </tr>\n",
              "    <tr>\n",
              "      <th>2</th>\n",
              "      <td>7001</td>\n",
              "    </tr>\n",
              "    <tr>\n",
              "      <th>3</th>\n",
              "      <td>8001</td>\n",
              "    </tr>\n",
              "    <tr>\n",
              "      <th>5</th>\n",
              "      <td>13001</td>\n",
              "    </tr>\n",
              "    <tr>\n",
              "      <th>...</th>\n",
              "      <td>...</td>\n",
              "    </tr>\n",
              "    <tr>\n",
              "      <th>180084</th>\n",
              "      <td>94629001</td>\n",
              "    </tr>\n",
              "    <tr>\n",
              "      <th>180085</th>\n",
              "      <td>94630001</td>\n",
              "    </tr>\n",
              "    <tr>\n",
              "      <th>180087</th>\n",
              "      <td>94631001</td>\n",
              "    </tr>\n",
              "    <tr>\n",
              "      <th>180093</th>\n",
              "      <td>94632001</td>\n",
              "    </tr>\n",
              "    <tr>\n",
              "      <th>180099</th>\n",
              "      <td>94633001</td>\n",
              "    </tr>\n",
              "  </tbody>\n",
              "</table>\n",
              "<p>71517 rows × 1 columns</p>\n",
              "</div>"
            ],
            "text/plain": [
              "          spm_id\n",
              "0           4001\n",
              "1           6001\n",
              "2           7001\n",
              "3           8001\n",
              "5          13001\n",
              "...          ...\n",
              "180084  94629001\n",
              "180085  94630001\n",
              "180087  94631001\n",
              "180093  94632001\n",
              "180099  94633001\n",
              "\n",
              "[71517 rows x 1 columns]"
            ]
          },
          "metadata": {
            "tags": []
          },
          "execution_count": 84
        }
      ]
    },
    {
      "cell_type": "markdown",
      "metadata": {
        "id": "7tCJEBXs4aOK",
        "colab_type": "text"
      },
      "source": [
        "Who's getting child tax credit and TANF\n"
      ]
    },
    {
      "cell_type": "code",
      "metadata": {
        "id": "eLe2lBvQ4cnM",
        "colab_type": "code",
        "colab": {
          "base_uri": "https://localhost:8080/",
          "height": 368
        },
        "outputId": "ec652fd0-d10c-4726-c12b-32a0ae451385"
      },
      "source": [
        "## total_popbenefits = ((person_benefits.ctc_crd>0|person_benefits.actc_crd>0) & (person_benefits.paw_typ==1)).sum() \n",
        "##total_popbenefits = ((person_benefits.ctc_crd>0)|(person_benefits.actc_crd>0)).sum()\n",
        "\n",
        "person_benefits['both']=((person_benefits.ctc_crd>0) | (person_benefits.actc_crd>0)) & (person_benefits.paw_typ==1)\n",
        "total_both = (person_benefits.weight * person_benefits.both).sum()\n",
        "total_both"
      ],
      "execution_count": null,
      "outputs": [
        {
          "output_type": "error",
          "ename": "AttributeError",
          "evalue": "ignored",
          "traceback": [
            "\u001b[0;31m---------------------------------------------------------------------------\u001b[0m",
            "\u001b[0;31mAttributeError\u001b[0m                            Traceback (most recent call last)",
            "\u001b[0;32m<ipython-input-85-bc70deb1aadc>\u001b[0m in \u001b[0;36m<module>\u001b[0;34m()\u001b[0m\n\u001b[1;32m      2\u001b[0m \u001b[0;31m##total_popbenefits = ((person_benefits.ctc_crd>0)|(person_benefits.actc_crd>0)).sum()\u001b[0m\u001b[0;34m\u001b[0m\u001b[0;34m\u001b[0m\u001b[0;34m\u001b[0m\u001b[0m\n\u001b[1;32m      3\u001b[0m \u001b[0;34m\u001b[0m\u001b[0m\n\u001b[0;32m----> 4\u001b[0;31m \u001b[0mperson_benefits\u001b[0m\u001b[0;34m[\u001b[0m\u001b[0;34m'both'\u001b[0m\u001b[0;34m]\u001b[0m\u001b[0;34m=\u001b[0m\u001b[0;34m(\u001b[0m\u001b[0;34m(\u001b[0m\u001b[0mperson_benefits\u001b[0m\u001b[0;34m.\u001b[0m\u001b[0mctc_crd\u001b[0m\u001b[0;34m>\u001b[0m\u001b[0;36m0\u001b[0m\u001b[0;34m)\u001b[0m \u001b[0;34m|\u001b[0m \u001b[0;34m(\u001b[0m\u001b[0mperson_benefits\u001b[0m\u001b[0;34m.\u001b[0m\u001b[0mactc_crd\u001b[0m\u001b[0;34m>\u001b[0m\u001b[0;36m0\u001b[0m\u001b[0;34m)\u001b[0m\u001b[0;34m)\u001b[0m \u001b[0;34m&\u001b[0m \u001b[0;34m(\u001b[0m\u001b[0mperson_benefits\u001b[0m\u001b[0;34m.\u001b[0m\u001b[0mpaw_typ\u001b[0m\u001b[0;34m==\u001b[0m\u001b[0;36m1\u001b[0m\u001b[0;34m)\u001b[0m\u001b[0;34m\u001b[0m\u001b[0;34m\u001b[0m\u001b[0m\n\u001b[0m\u001b[1;32m      5\u001b[0m \u001b[0mtotal_both\u001b[0m \u001b[0;34m=\u001b[0m \u001b[0;34m(\u001b[0m\u001b[0mperson_benefits\u001b[0m\u001b[0;34m.\u001b[0m\u001b[0mweight\u001b[0m \u001b[0;34m*\u001b[0m \u001b[0mperson_benefits\u001b[0m\u001b[0;34m.\u001b[0m\u001b[0mboth\u001b[0m\u001b[0;34m)\u001b[0m\u001b[0;34m.\u001b[0m\u001b[0msum\u001b[0m\u001b[0;34m(\u001b[0m\u001b[0;34m)\u001b[0m\u001b[0;34m\u001b[0m\u001b[0;34m\u001b[0m\u001b[0m\n\u001b[1;32m      6\u001b[0m \u001b[0mtotal_both\u001b[0m\u001b[0;34m\u001b[0m\u001b[0;34m\u001b[0m\u001b[0m\n",
            "\u001b[0;32m/usr/local/lib/python3.6/dist-packages/pandas/core/generic.py\u001b[0m in \u001b[0;36m__getattr__\u001b[0;34m(self, name)\u001b[0m\n\u001b[1;32m   5272\u001b[0m             \u001b[0;32mif\u001b[0m \u001b[0mself\u001b[0m\u001b[0;34m.\u001b[0m\u001b[0m_info_axis\u001b[0m\u001b[0;34m.\u001b[0m\u001b[0m_can_hold_identifiers_and_holds_name\u001b[0m\u001b[0;34m(\u001b[0m\u001b[0mname\u001b[0m\u001b[0;34m)\u001b[0m\u001b[0;34m:\u001b[0m\u001b[0;34m\u001b[0m\u001b[0;34m\u001b[0m\u001b[0m\n\u001b[1;32m   5273\u001b[0m                 \u001b[0;32mreturn\u001b[0m \u001b[0mself\u001b[0m\u001b[0;34m[\u001b[0m\u001b[0mname\u001b[0m\u001b[0;34m]\u001b[0m\u001b[0;34m\u001b[0m\u001b[0;34m\u001b[0m\u001b[0m\n\u001b[0;32m-> 5274\u001b[0;31m             \u001b[0;32mreturn\u001b[0m \u001b[0mobject\u001b[0m\u001b[0;34m.\u001b[0m\u001b[0m__getattribute__\u001b[0m\u001b[0;34m(\u001b[0m\u001b[0mself\u001b[0m\u001b[0;34m,\u001b[0m \u001b[0mname\u001b[0m\u001b[0;34m)\u001b[0m\u001b[0;34m\u001b[0m\u001b[0;34m\u001b[0m\u001b[0m\n\u001b[0m\u001b[1;32m   5275\u001b[0m \u001b[0;34m\u001b[0m\u001b[0m\n\u001b[1;32m   5276\u001b[0m     \u001b[0;32mdef\u001b[0m \u001b[0m__setattr__\u001b[0m\u001b[0;34m(\u001b[0m\u001b[0mself\u001b[0m\u001b[0;34m,\u001b[0m \u001b[0mname\u001b[0m\u001b[0;34m:\u001b[0m \u001b[0mstr\u001b[0m\u001b[0;34m,\u001b[0m \u001b[0mvalue\u001b[0m\u001b[0;34m)\u001b[0m \u001b[0;34m->\u001b[0m \u001b[0;32mNone\u001b[0m\u001b[0;34m:\u001b[0m\u001b[0;34m\u001b[0m\u001b[0;34m\u001b[0m\u001b[0m\n",
            "\u001b[0;31mAttributeError\u001b[0m: 'DataFrame' object has no attribute 'ctc_crd'"
          ]
        }
      ]
    }
  ]
}